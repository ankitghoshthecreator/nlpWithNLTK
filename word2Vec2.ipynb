{
 "cells": [
  {
   "cell_type": "code",
   "execution_count": 3,
   "id": "2815c431-6d9d-4e12-a051-00d2d1858a6d",
   "metadata": {},
   "outputs": [],
   "source": [
    "from gensim.models import Word2Vec"
   ]
  },
  {
   "cell_type": "code",
   "execution_count": 4,
   "id": "dff47184-5a35-46fe-92cb-9a95519a073d",
   "metadata": {},
   "outputs": [],
   "source": [
    "sentences = [\n",
    "    ['king', 'queen', 'man', 'woman'],\n",
    "    ['paris', 'france', 'berlin', 'germany'],\n",
    "    ['apple', 'banana', 'mango', 'fruit'],\n",
    "    ['dog', 'cat', 'pet', 'animal'],\n",
    "    ['car', 'vehicle', 'truck', 'automobile']\n",
    "]"
   ]
  },
  {
   "cell_type": "code",
   "execution_count": 5,
   "id": "2ad756d5-5353-4999-b169-d6552624566c",
   "metadata": {},
   "outputs": [],
   "source": [
    "model= Word2Vec(sentences, vector_size=50, window=2, min_count=1, sg=1)"
   ]
  },
  {
   "cell_type": "code",
   "execution_count": 6,
   "id": "00097fd5-a2e2-4550-9934-96f8a0db665d",
   "metadata": {},
   "outputs": [
    {
     "data": {
      "text/plain": [
       "array([ 0.00513854,  0.01623337, -0.00277442,  0.01615586,  0.00743403,\n",
       "       -0.01609465, -0.00786723, -0.00494376,  0.00978609, -0.00174432,\n",
       "       -0.00566182,  0.01566741,  0.0186458 , -0.00322986, -0.0103185 ,\n",
       "       -0.00940352, -0.0096921 , -0.01920565,  0.00274404, -0.00844983,\n",
       "        0.00505342,  0.01122897, -0.00813181, -0.01919316,  0.0030934 ,\n",
       "       -0.01340024,  0.00499035, -0.00756126,  0.01415684,  0.00128044,\n",
       "        0.00712188, -0.00547827, -0.00342109,  0.01530559,  0.00281536,\n",
       "       -0.0117009 , -0.01566899,  0.00246537,  0.01290926,  0.0111127 ,\n",
       "       -0.0179541 ,  0.01718433,  0.00809396,  0.01493921,  0.01949267,\n",
       "       -0.01457916, -0.01807993,  0.011672  ,  0.01878243,  0.00701385],\n",
       "      dtype=float32)"
      ]
     },
     "execution_count": 6,
     "metadata": {},
     "output_type": "execute_result"
    }
   ],
   "source": [
    "model.wv['king']"
   ]
  },
  {
   "cell_type": "code",
   "execution_count": 7,
   "id": "e77f4d5c-fdc9-455f-888a-4fbed6622e7b",
   "metadata": {},
   "outputs": [
    {
     "data": {
      "text/plain": [
       "[('vehicle', 0.17079412937164307),\n",
       " ('animal', 0.16490870714187622),\n",
       " ('truck', 0.16086997091770172),\n",
       " ('cat', 0.08010602742433548),\n",
       " ('car', 0.06329163163900375),\n",
       " ('paris', 0.03634033724665642),\n",
       " ('woman', 0.030459687113761902),\n",
       " ('automobile', 0.011333400383591652),\n",
       " ('dog', 0.0033661355264484882),\n",
       " ('mango', -0.08517492562532425)]"
      ]
     },
     "execution_count": 7,
     "metadata": {},
     "output_type": "execute_result"
    }
   ],
   "source": [
    "model.wv.most_similar('king')"
   ]
  },
  {
   "cell_type": "code",
   "execution_count": 8,
   "id": "8974ec81-46c1-485a-b42b-09e9250f64e6",
   "metadata": {},
   "outputs": [
    {
     "name": "stdout",
     "output_type": "stream",
     "text": [
      "[('animal', 0.23461711406707764), ('truck', 0.22372928261756897), ('dog', 0.17287185788154602), ('paris', 0.1691473126411438), ('cat', 0.09663370251655579), ('vehicle', 0.07216059416532516), ('pet', 0.061957623809576035), ('car', 0.040624942630529404), ('queen', 0.033436063677072525), ('mango', -0.014103913679718971)]\n"
     ]
    }
   ],
   "source": [
    "result = model.wv.most_similar(positive=['woman', 'king'], negative=['man'])\n",
    "print(result)"
   ]
  },
  {
   "cell_type": "code",
   "execution_count": 11,
   "id": "c17fdfb3-c875-40f0-ab51-016658d87ed6",
   "metadata": {},
   "outputs": [
    {
     "data": {
      "text/plain": [
       "[('animal', 0.2381727695465088),\n",
       " ('king', 0.12756089866161346),\n",
       " ('queen', 0.11781218647956848),\n",
       " ('dog', 0.0944916307926178),\n",
       " ('paris', 0.08040366321802139),\n",
       " ('fruit', 0.03820361569523811),\n",
       " ('vehicle', 0.024603689089417458),\n",
       " ('france', 0.011855027638375759),\n",
       " ('pet', 0.003741493681445718),\n",
       " ('germany', -0.008042571134865284)]"
      ]
     },
     "execution_count": 11,
     "metadata": {},
     "output_type": "execute_result"
    }
   ],
   "source": [
    "model.wv.most_similar(positive=['woman', 'king'], negative=['man'])"
   ]
  },
  {
   "cell_type": "code",
   "execution_count": 12,
   "id": "beb72ae7-3280-497a-b89e-bc6574276306",
   "metadata": {},
   "outputs": [],
   "source": [
    "model.save(\"word2vec.model\")\n",
    "loaded_model = Word2Vec.load(\"word2vec.model\")"
   ]
  },
  {
   "cell_type": "code",
   "execution_count": null,
   "id": "19d6a939-e2c5-461d-beec-f80b02c923be",
   "metadata": {},
   "outputs": [],
   "source": []
  }
 ],
 "metadata": {
  "kernelspec": {
   "display_name": "Python 3 (ipykernel)",
   "language": "python",
   "name": "python3"
  },
  "language_info": {
   "codemirror_mode": {
    "name": "ipython",
    "version": 3
   },
   "file_extension": ".py",
   "mimetype": "text/x-python",
   "name": "python",
   "nbconvert_exporter": "python",
   "pygments_lexer": "ipython3",
   "version": "3.9.13"
  }
 },
 "nbformat": 4,
 "nbformat_minor": 5
}
