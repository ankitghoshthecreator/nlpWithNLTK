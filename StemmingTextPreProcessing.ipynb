{
 "cells": [
  {
   "cell_type": "code",
   "execution_count": 19,
   "id": "7ee8f605-b340-47df-bfd2-11973667d733",
   "metadata": {},
   "outputs": [],
   "source": [
    "#posative and neghative review"
   ]
  },
  {
   "cell_type": "code",
   "execution_count": 20,
   "id": "6970cee1-c22d-4da4-bf6b-6effbe4b45df",
   "metadata": {},
   "outputs": [],
   "source": [
    "#stem word->eat new words from this-> eating, eaten ate...etc"
   ]
  },
  {
   "cell_type": "code",
   "execution_count": 21,
   "id": "c059b65c-9e01-49dc-b14a-cc55d91b32dc",
   "metadata": {},
   "outputs": [],
   "source": [
    "words=[\"eating\", \"eat\", \"eaten\", \"writing\", \"writes\", \"programming\", \"programs\", \"history\", \"final\", \"finalized\"]"
   ]
  },
  {
   "cell_type": "code",
   "execution_count": 22,
   "id": "e8dc9539-c6eb-4635-b7e5-c5996ea7ebbc",
   "metadata": {},
   "outputs": [],
   "source": [
    "#porterStemmer"
   ]
  },
  {
   "cell_type": "code",
   "execution_count": 23,
   "id": "240847fb-0958-4473-abd7-f7128b61e840",
   "metadata": {},
   "outputs": [],
   "source": [
    "from nltk.stem import PorterStemmer"
   ]
  },
  {
   "cell_type": "code",
   "execution_count": 24,
   "id": "ffc3d5a3-0ac0-42a7-9e7b-aa88791dcf16",
   "metadata": {},
   "outputs": [],
   "source": [
    "stemming=PorterStemmer()"
   ]
  },
  {
   "cell_type": "code",
   "execution_count": 25,
   "id": "d8027d7b-e5c5-4650-b210-9f30bbaf04fb",
   "metadata": {},
   "outputs": [
    {
     "name": "stdout",
     "output_type": "stream",
     "text": [
      "eating--->eat\n",
      "eat--->eat\n",
      "eaten--->eaten\n",
      "writing--->write\n",
      "writes--->write\n",
      "programming--->program\n",
      "programs--->program\n",
      "history--->histori\n",
      "final--->final\n",
      "finalized--->final\n"
     ]
    }
   ],
   "source": [
    "for word in words:\n",
    "    print(word+\"--->\"+stemming.stem(word))"
   ]
  },
  {
   "cell_type": "code",
   "execution_count": 26,
   "id": "0d06acc6-bee8-49ae-861d-33c94be6c09e",
   "metadata": {},
   "outputs": [
    {
     "data": {
      "text/plain": [
       "'congratul'"
      ]
     },
     "execution_count": 26,
     "metadata": {},
     "output_type": "execute_result"
    }
   ],
   "source": [
    "stemming.stem(\"congratulation\")"
   ]
  },
  {
   "cell_type": "code",
   "execution_count": 27,
   "id": "1d377452-7d3d-4794-b5a6-351616dce329",
   "metadata": {},
   "outputs": [
    {
     "data": {
      "text/plain": [
       "'stiitng'"
      ]
     },
     "execution_count": 27,
     "metadata": {},
     "output_type": "execute_result"
    }
   ],
   "source": [
    "stemming.stem(\"stiitng\")"
   ]
  },
  {
   "cell_type": "code",
   "execution_count": 28,
   "id": "fbb38593-c1fe-4fc0-985b-00afae8e97d8",
   "metadata": {},
   "outputs": [],
   "source": [
    "#by seeing the output we cam easily say that it works good for many words but have some disadvantages \n",
    "#the form or the menaing of a word changes for some words \n",
    "#for that next type of stemming"
   ]
  },
  {
   "cell_type": "code",
   "execution_count": 29,
   "id": "6a1b98b2-80c8-427b-aec4-f734102793b0",
   "metadata": {},
   "outputs": [],
   "source": [
    "#regexpStemmer class\n",
    "#here we give som,e regular expression suffix or prefix like ing able or anyting and it removes that suffix and prefix\n",
    "#and give the remaining as a output"
   ]
  },
  {
   "cell_type": "code",
   "execution_count": 30,
   "id": "e8941bfe-015b-4d15-b6a5-37b4b5bcb277",
   "metadata": {},
   "outputs": [],
   "source": [
    "from nltk.stem import RegexpStemmer"
   ]
  },
  {
   "cell_type": "code",
   "execution_count": 31,
   "id": "9682f1bf-7612-4f06-aa88-02cd168f5227",
   "metadata": {},
   "outputs": [],
   "source": [
    "reg_stemmer=RegexpStemmer(\"ing$|s$|able$\")"
   ]
  },
  {
   "cell_type": "code",
   "execution_count": 32,
   "id": "6edc4c66-a80e-4f23-946c-dcb1431f8ae6",
   "metadata": {},
   "outputs": [
    {
     "data": {
      "text/plain": [
       "'eat'"
      ]
     },
     "execution_count": 32,
     "metadata": {},
     "output_type": "execute_result"
    }
   ],
   "source": [
    "reg_stemmer.stem(\"eating\")"
   ]
  },
  {
   "cell_type": "code",
   "execution_count": 33,
   "id": "ad8d58d3-f33f-4e2b-bc2c-3f45cb579b84",
   "metadata": {},
   "outputs": [
    {
     "data": {
      "text/plain": [
       "'justify'"
      ]
     },
     "execution_count": 33,
     "metadata": {},
     "output_type": "execute_result"
    }
   ],
   "source": [
    "reg_stemmer.stem(\"justifyable\")"
   ]
  },
  {
   "cell_type": "code",
   "execution_count": 34,
   "id": "278d9d4b-f22d-4d28-8292-82ca5330d164",
   "metadata": {},
   "outputs": [],
   "source": [
    "#snowballStemmer"
   ]
  },
  {
   "cell_type": "code",
   "execution_count": 35,
   "id": "4d1f11bd-c2a3-4f0f-8dfb-1bb628896084",
   "metadata": {},
   "outputs": [],
   "source": [
    "from nltk.stem.snowball import SnowballStemmer"
   ]
  },
  {
   "cell_type": "code",
   "execution_count": 36,
   "id": "94ccc679-6aa6-4794-bffc-2ed7e5a7ef19",
   "metadata": {},
   "outputs": [],
   "source": [
    "snowballstemmer=SnowballStemmer('english')"
   ]
  },
  {
   "cell_type": "code",
   "execution_count": 41,
   "id": "f091a8ed-7200-440a-beb6-7d3ff0ae614b",
   "metadata": {},
   "outputs": [
    {
     "name": "stdout",
     "output_type": "stream",
     "text": [
      "eating--->eat\n",
      "eat--->eat\n",
      "eaten--->eaten\n",
      "writing--->write\n",
      "writes--->write\n",
      "programming--->program\n",
      "programs--->program\n",
      "history--->histori\n",
      "final--->final\n",
      "finalized--->final\n"
     ]
    }
   ],
   "source": [
    "for word in words:\n",
    "    print(word+\"--->\"+snowballstemmer.stem(word))"
   ]
  },
  {
   "cell_type": "code",
   "execution_count": 46,
   "id": "f6cfa6dd-f212-4472-8b6f-6bc535547cb1",
   "metadata": {},
   "outputs": [
    {
     "data": {
      "text/plain": [
       "('sportingli', 'sport')"
      ]
     },
     "execution_count": 46,
     "metadata": {},
     "output_type": "execute_result"
    }
   ],
   "source": [
    "stemming.stem(\"sportingly\"),snowballstemmer.stem(\"sportingly\")\n",
    "#snowball stemmer gives better reply than porter and regesx is manual "
   ]
  },
  {
   "cell_type": "code",
   "execution_count": null,
   "id": "e148e68b-fceb-4587-b360-1d0303cd92bd",
   "metadata": {},
   "outputs": [],
   "source": []
  }
 ],
 "metadata": {
  "kernelspec": {
   "display_name": "Python 3 (ipykernel)",
   "language": "python",
   "name": "python3"
  },
  "language_info": {
   "codemirror_mode": {
    "name": "ipython",
    "version": 3
   },
   "file_extension": ".py",
   "mimetype": "text/x-python",
   "name": "python",
   "nbconvert_exporter": "python",
   "pygments_lexer": "ipython3",
   "version": "3.9.13"
  }
 },
 "nbformat": 4,
 "nbformat_minor": 5
}
