{
 "cells": [
  {
   "cell_type": "code",
   "execution_count": 1,
   "id": "7ee8f605-b340-47df-bfd2-11973667d733",
   "metadata": {},
   "outputs": [],
   "source": [
    "#posative and neghative review"
   ]
  },
  {
   "cell_type": "code",
   "execution_count": 2,
   "id": "6970cee1-c22d-4da4-bf6b-6effbe4b45df",
   "metadata": {},
   "outputs": [],
   "source": [
    "#stem word->eat new words from this-> eating, eaten ate...etc"
   ]
  },
  {
   "cell_type": "code",
   "execution_count": 4,
   "id": "c059b65c-9e01-49dc-b14a-cc55d91b32dc",
   "metadata": {},
   "outputs": [],
   "source": [
    "words=[\"eating\", \"eat\", \"eaten\", \"writing\", \"writes\", \"programming\", \"programs\", \"history\", \"final\", \"finalized\"]"
   ]
  },
  {
   "cell_type": "code",
   "execution_count": 5,
   "id": "e8dc9539-c6eb-4635-b7e5-c5996ea7ebbc",
   "metadata": {},
   "outputs": [],
   "source": [
    "#porterStemmer"
   ]
  },
  {
   "cell_type": "code",
   "execution_count": null,
   "id": "240847fb-0958-4473-abd7-f7128b61e840",
   "metadata": {},
   "outputs": [],
   "source": []
  }
 ],
 "metadata": {
  "kernelspec": {
   "display_name": "Python 3 (ipykernel)",
   "language": "python",
   "name": "python3"
  },
  "language_info": {
   "codemirror_mode": {
    "name": "ipython",
    "version": 3
   },
   "file_extension": ".py",
   "mimetype": "text/x-python",
   "name": "python",
   "nbconvert_exporter": "python",
   "pygments_lexer": "ipython3",
   "version": "3.9.13"
  }
 },
 "nbformat": 4,
 "nbformat_minor": 5
}
