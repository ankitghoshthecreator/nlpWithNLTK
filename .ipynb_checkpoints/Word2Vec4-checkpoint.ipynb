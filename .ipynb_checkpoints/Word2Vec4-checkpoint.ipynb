{
 "cells": [
  {
   "cell_type": "code",
   "execution_count": 1,
   "id": "0397d5a8-b8c9-436b-8f5b-1d88135b0387",
   "metadata": {},
   "outputs": [
    {
     "name": "stderr",
     "output_type": "stream",
     "text": [
      "[nltk_data] Downloading package punkt to\n",
      "[nltk_data]     C:\\Users\\Ankit\\AppData\\Roaming\\nltk_data...\n",
      "[nltk_data]   Package punkt is already up-to-date!\n",
      "[nltk_data] Downloading package stopwords to\n",
      "[nltk_data]     C:\\Users\\Ankit\\AppData\\Roaming\\nltk_data...\n",
      "[nltk_data]   Package stopwords is already up-to-date!\n",
      "[nltk_data] Downloading package wordnet to\n",
      "[nltk_data]     C:\\Users\\Ankit\\AppData\\Roaming\\nltk_data...\n",
      "[nltk_data]   Package wordnet is already up-to-date!\n"
     ]
    },
    {
     "data": {
      "text/plain": [
       "True"
      ]
     },
     "execution_count": 1,
     "metadata": {},
     "output_type": "execute_result"
    }
   ],
   "source": [
    "import nltk\n",
    "import re\n",
    "from nltk.corpus import stopwords\n",
    "from nltk.tokenize import sent_tokenize, word_tokenize\n",
    "from nltk.stem import WordNetLemmatizer\n",
    "nltk.download('punkt')\n",
    "nltk.download('stopwords')\n",
    "nltk.download('wordnet')"
   ]
  },
  {
   "cell_type": "code",
   "execution_count": 5,
   "id": "aac02e65-5123-47fc-bbe4-b0f9a6245e00",
   "metadata": {},
   "outputs": [],
   "source": [
    "text = \"\"\"\n",
    "Artificial Intelligence (AI) is no longer a futuristic concept; it is a part of our daily lives.\n",
    "From voice assistants like Siri and Alexa to personalized recommendations on Netflix and Amazon, AI is everywhere.\n",
    "It powers self-driving cars, detects fraud in banking, assists doctors in diagnosis, and even writes news articles.\n",
    "Machine Learning (ML), a subset of AI, allows systems to learn from data and improve over time without being explicitly programmed.\n",
    "Natural Language Processing (NLP), another subfield of AI, enables computers to understand, interpret, and respond to human language.\n",
    "As AI continues to evolve, ethical considerations like bias, transparency, and accountability are becoming increasingly important.\n",
    "Researchers and engineers are working on explainable AI to make systems more trustworthy and fair.\n",
    "AI also holds the potential to address global challenges, such as climate change, by optimizing energy usage and enabling smarter agriculture.\n",
    "With responsible development, AI can become a powerful tool for innovation and progress across industries.\n",
    "\"\"\""
   ]
  },
  {
   "cell_type": "code",
   "execution_count": 6,
   "id": "5bc3d7ce-f307-4112-90fb-0e71a541024e",
   "metadata": {},
   "outputs": [],
   "source": [
    "text = text.lower()\n",
    "text = re.sub(r'[^a-z\\s]', '', text)"
   ]
  },
  {
   "cell_type": "code",
   "execution_count": 14,
   "id": "bfa4b2ad-6a05-43f4-a938-e2b01b879c00",
   "metadata": {},
   "outputs": [],
   "source": [
    "sentences=sent_tokenize(text)"
   ]
  },
  {
   "cell_type": "code",
   "execution_count": 15,
   "id": "e5ec26d7-261b-49c0-b55a-f7c46a92e325",
   "metadata": {},
   "outputs": [],
   "source": [
    "stopWords=set(stopwords.words('english'))\n",
    "lemmatizer=WordNetLemmatizer()\n",
    "processed_sentences=[]#empty list the sentences are to be appended"
   ]
  },
  {
   "cell_type": "code",
   "execution_count": 16,
   "id": "ec5a5f65-b2f5-41c2-9e93-300c462c0a03",
   "metadata": {},
   "outputs": [
    {
     "name": "stdout",
     "output_type": "stream",
     "text": [
      "[['artificial', 'intelligence', 'ai', 'longer', 'futuristic', 'concept', 'part', 'daily', 'life', 'voice', 'assistant', 'like', 'siri', 'alexa', 'personalized', 'recommendation', 'netflix', 'amazon', 'ai', 'everywhere', 'power', 'selfdriving', 'car', 'detects', 'fraud', 'banking', 'assist', 'doctor', 'diagnosis', 'even', 'writes', 'news', 'article', 'machine', 'learning', 'ml', 'subset', 'ai', 'allows', 'system', 'learn', 'data', 'improve', 'time', 'without', 'explicitly', 'programmed', 'natural', 'language', 'processing', 'nlp', 'another', 'subfield', 'ai', 'enables', 'computer', 'understand', 'interpret', 'respond', 'human', 'language', 'ai', 'continues', 'evolve', 'ethical', 'consideration', 'like', 'bias', 'transparency', 'accountability', 'becoming', 'increasingly', 'important', 'researcher', 'engineer', 'working', 'explainable', 'ai', 'make', 'system', 'trustworthy', 'fair', 'ai', 'also', 'hold', 'potential', 'address', 'global', 'challenge', 'climate', 'change', 'optimizing', 'energy', 'usage', 'enabling', 'smarter', 'agriculture', 'responsible', 'development', 'ai', 'become', 'powerful', 'tool', 'innovation', 'progress', 'across', 'industry']]\n"
     ]
    }
   ],
   "source": [
    "for sent in sentences:\n",
    "    words=word_tokenize(sent)\n",
    "    filtered=[\n",
    "        lemmatizer.lemmatize(word)\n",
    "        for word in words if word not in stopWords\n",
    "    ]\n",
    "    processed_sentences.append(filtered)\n",
    "\n",
    "print(processed_sentences)"
   ]
  },
  {
   "cell_type": "code",
   "execution_count": 17,
   "id": "8fd3bba5-83e6-43d7-96f7-fd1f6a0385fe",
   "metadata": {},
   "outputs": [],
   "source": [
    "from gensim.models import Word2Vec"
   ]
  },
  {
   "cell_type": "code",
   "execution_count": 19,
   "id": "504325d6-7685-4c44-ab28-30afbc114267",
   "metadata": {},
   "outputs": [],
   "source": [
    "model=Word2Vec(sentences=processed_sentences,vector_size=100, window=5, sg=1, min_count=1) \n",
    "#using skip_gram becoz small dataset and used for uniquw word"
   ]
  },
  {
   "cell_type": "code",
   "execution_count": 21,
   "id": "1a61ef52-1642-4725-907d-f718776eb35b",
   "metadata": {},
   "outputs": [
    {
     "data": {
      "text/plain": [
       "array([-6.26952387e-04,  4.12883004e-04,  5.01612481e-03,  8.93904082e-03,\n",
       "       -9.25770681e-03, -7.49407336e-03,  6.56625489e-03,  9.32337437e-03,\n",
       "       -5.45849651e-03, -3.85150639e-03,  7.21616065e-03, -2.37719389e-03,\n",
       "       -4.62533347e-03,  6.71890145e-03, -4.80149500e-03, -2.08361517e-03,\n",
       "        2.88009620e-03,  9.39625199e-04, -8.39303620e-03, -9.92135704e-03,\n",
       "        7.57548306e-03,  5.25872363e-03,  7.07214233e-03,  7.03405822e-04,\n",
       "        6.56852871e-03, -3.45451781e-03, -9.44268424e-04,  5.72935445e-03,\n",
       "       -7.64261745e-03, -4.04008431e-03, -7.48953735e-03, -1.01933605e-03,\n",
       "        9.65549145e-03, -7.85058085e-03, -2.40333937e-03, -1.81020983e-03,\n",
       "        8.46645888e-03, -5.96547499e-03,  2.17858993e-04, -5.28672943e-03,\n",
       "       -9.81295109e-03,  4.95632319e-03, -9.09171812e-03, -4.39357711e-03,\n",
       "        2.50992925e-05, -4.51863947e-04, -8.09436850e-03,  9.64441337e-03,\n",
       "        5.32359490e-03,  9.32706427e-03, -8.20684247e-03,  4.20309789e-03,\n",
       "       -3.75220808e-03,  7.61828967e-04,  8.63681082e-03, -4.28952090e-03,\n",
       "        4.59763967e-03, -6.85746176e-03, -3.85495974e-03,  9.63859167e-03,\n",
       "       -1.57971121e-03,  1.95646790e-04, -3.92465014e-03, -7.84085877e-03,\n",
       "       -1.95762538e-03,  2.89977947e-03, -1.18953455e-03,  5.95926773e-03,\n",
       "       -2.77428259e-03,  2.62691290e-03,  5.28762443e-03,  8.72791931e-03,\n",
       "       -1.35214755e-03, -9.24997497e-03,  4.48284252e-03,  8.18260887e-04,\n",
       "        7.63970008e-03, -9.56712291e-04, -2.61179986e-03, -9.08365007e-03,\n",
       "       -9.11786105e-04,  2.73730559e-03,  5.00953896e-03,  7.03747571e-03,\n",
       "       -5.97727345e-03,  1.81003695e-03,  6.20274525e-03, -4.86256648e-03,\n",
       "       -2.62223138e-03,  7.29400991e-03,  1.88292575e-03,  4.56748938e-04,\n",
       "        3.38211330e-03,  2.49058969e-04,  1.00561185e-02,  5.43090980e-03,\n",
       "       -9.00129788e-03, -7.08473474e-03,  9.62970371e-04,  6.00008760e-03],\n",
       "      dtype=float32)"
      ]
     },
     "execution_count": 21,
     "metadata": {},
     "output_type": "execute_result"
    }
   ],
   "source": [
    "model.wv['ai'] #a 100 size vector"
   ]
  },
  {
   "cell_type": "code",
   "execution_count": 23,
   "id": "135063f6-4339-494d-a7a7-2cad1b73f286",
   "metadata": {},
   "outputs": [
    {
     "data": {
      "text/plain": [
       "[('data', 0.19332779943943024),\n",
       " ('article', 0.18612921237945557),\n",
       " ('optimizing', 0.18358764052391052),\n",
       " ('programmed', 0.17793482542037964),\n",
       " ('ml', 0.16871829330921173),\n",
       " ('powerful', 0.16510170698165894),\n",
       " ('assistant', 0.16318166255950928),\n",
       " ('ai', 0.16261132061481476),\n",
       " ('responsible', 0.14682568609714508),\n",
       " ('detects', 0.14472298324108124)]"
      ]
     },
     "execution_count": 23,
     "metadata": {},
     "output_type": "execute_result"
    }
   ],
   "source": [
    "model.wv.most_similar('futuristic')"
   ]
  },
  {
   "cell_type": "code",
   "execution_count": null,
   "id": "96f4f029-0a48-4804-80c7-71a7f0129f91",
   "metadata": {},
   "outputs": [],
   "source": []
  }
 ],
 "metadata": {
  "kernelspec": {
   "display_name": "Python 3 (ipykernel)",
   "language": "python",
   "name": "python3"
  },
  "language_info": {
   "codemirror_mode": {
    "name": "ipython",
    "version": 3
   },
   "file_extension": ".py",
   "mimetype": "text/x-python",
   "name": "python",
   "nbconvert_exporter": "python",
   "pygments_lexer": "ipython3",
   "version": "3.9.13"
  }
 },
 "nbformat": 4,
 "nbformat_minor": 5
}
