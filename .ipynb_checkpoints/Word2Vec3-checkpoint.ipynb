{
 "cells": [
  {
   "cell_type": "code",
   "execution_count": 1,
   "id": "bd94d017-9734-460e-aee9-a78ec0c1db97",
   "metadata": {},
   "outputs": [],
   "source": [
    "from gensim.models import Word2Vec"
   ]
  },
  {
   "cell_type": "code",
   "execution_count": 2,
   "id": "4fc93422-d83a-4541-8dd7-5354c76b0998",
   "metadata": {},
   "outputs": [],
   "source": [
    "# Sample corpus (can be replaced with any list of tokenized sentences)\n",
    "sentences = [\n",
    "    [\"the\", \"cat\", \"sat\", \"on\", \"the\", \"mat\"],\n",
    "    [\"dogs\", \"are\", \"loyal\", \"animals\"],\n",
    "    [\"the\", \"cat\", \"is\", \"loyal\"],\n",
    "]\n"
   ]
  },
  {
   "cell_type": "code",
   "execution_count": 3,
   "id": "72671926-5df0-4bd8-84bf-e7d66f176c8d",
   "metadata": {},
   "outputs": [],
   "source": [
    "cbow_model=Word2Vec(sentences, vector_size=50, window=2,min_count=1, sg=0)"
   ]
  },
  {
   "cell_type": "code",
   "execution_count": 4,
   "id": "ff7b2b56-7b44-4e17-89e5-40a19e4a5fbd",
   "metadata": {},
   "outputs": [],
   "source": [
    "skipGram_model=Word2Vec(sentences, vector_size=50, window=2,min_count=1, sg=1)"
   ]
  },
  {
   "cell_type": "code",
   "execution_count": 6,
   "id": "fd7a45d4-52f1-4f2b-a757-7589565ef5e4",
   "metadata": {},
   "outputs": [
    {
     "name": "stdout",
     "output_type": "stream",
     "text": [
      "[-0.01723938  0.00733148  0.01037977  0.01148388  0.01493384 -0.01233535\n",
      "  0.00221123  0.01209456 -0.0056801  -0.01234705 -0.00082045 -0.0167379\n",
      " -0.01120002  0.01420908  0.00670508  0.01445134  0.01360049  0.01506148\n",
      " -0.00757831 -0.00112361  0.00469675 -0.00903806  0.01677746 -0.01971633\n",
      "  0.01352928  0.00582883 -0.00986566  0.00879638 -0.00347915  0.01342277\n",
      "  0.0199297  -0.00872489 -0.00119868 -0.01139127  0.00770164  0.00557325\n",
      "  0.01378215  0.01220219  0.01907699  0.01854683  0.01579614 -0.01397901\n",
      " -0.01831173 -0.00071151 -0.00619968  0.01578863  0.01187715 -0.00309133\n",
      "  0.00302193  0.00358008]\n",
      "[-0.01723938  0.00733148  0.01037977  0.01148388  0.01493384 -0.01233535\n",
      "  0.00221123  0.01209456 -0.0056801  -0.01234705 -0.00082045 -0.0167379\n",
      " -0.01120002  0.01420908  0.00670508  0.01445134  0.01360049  0.01506148\n",
      " -0.00757831 -0.00112361  0.00469675 -0.00903806  0.01677746 -0.01971633\n",
      "  0.01352928  0.00582883 -0.00986566  0.00879638 -0.00347915  0.01342277\n",
      "  0.0199297  -0.00872489 -0.00119868 -0.01139127  0.00770164  0.00557325\n",
      "  0.01378215  0.01220219  0.01907699  0.01854683  0.01579614 -0.01397901\n",
      " -0.01831173 -0.00071151 -0.00619968  0.01578863  0.01187715 -0.00309133\n",
      "  0.00302193  0.00358008]\n"
     ]
    }
   ],
   "source": [
    "print(cbow_model.wv[\"cat\"]) \n",
    "print(skipGram_model.wv[\"cat\"])"
   ]
  },
  {
   "cell_type": "code",
   "execution_count": 7,
   "id": "4c2197fc-6dfd-4b7d-ad0a-4075adb456dd",
   "metadata": {},
   "outputs": [
    {
     "name": "stdout",
     "output_type": "stream",
     "text": [
      "[('animals', 0.16563552618026733), ('on', 0.13940520584583282), ('the', 0.1267007291316986), ('dogs', 0.08872983604669571), ('loyal', 0.011071977205574512), ('are', -0.027841337025165558), ('sat', -0.0372748002409935), ('is', -0.15515567362308502), ('mat', -0.2187293916940689)]\n"
     ]
    }
   ],
   "source": [
    "print(skipGram_model.wv.most_similar(\"cat\"))"
   ]
  },
  {
   "cell_type": "code",
   "execution_count": null,
   "id": "c490f8d6-bc38-4069-b619-6fddd3ba96a6",
   "metadata": {},
   "outputs": [],
   "source": []
  }
 ],
 "metadata": {
  "kernelspec": {
   "display_name": "Python 3 (ipykernel)",
   "language": "python",
   "name": "python3"
  },
  "language_info": {
   "codemirror_mode": {
    "name": "ipython",
    "version": 3
   },
   "file_extension": ".py",
   "mimetype": "text/x-python",
   "name": "python",
   "nbconvert_exporter": "python",
   "pygments_lexer": "ipython3",
   "version": "3.9.13"
  }
 },
 "nbformat": 4,
 "nbformat_minor": 5
}
