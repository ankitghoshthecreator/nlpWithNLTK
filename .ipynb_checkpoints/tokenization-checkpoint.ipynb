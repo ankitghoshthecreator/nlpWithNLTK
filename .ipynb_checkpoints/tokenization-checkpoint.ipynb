{
 "cells": [
  {
   "cell_type": "code",
   "execution_count": 10,
   "id": "7cbf83e4-d736-46f3-8998-25de71c3e6ca",
   "metadata": {},
   "outputs": [],
   "source": [
    "import nltk\n",
    "from nltk.tokenize.punkt import PunktSentenceTokenizer\n",
    "import pickle\n",
    "import os\n",
    "\n"
   ]
  },
  {
   "cell_type": "code",
   "execution_count": 11,
   "id": "d1e515b3-7eb6-46d5-9d2b-c48395c9477d",
   "metadata": {},
   "outputs": [],
   "source": [
    "tokenizer_path = \"C:/Users/Ankit/AppData/Roaming/nltk_data/tokenizers/punkt/english.pickle\"\n",
    "\n",
    "with open(tokenizer_path, 'rb') as f:\n",
    "    tokenizer = pickle.load(f)\n",
    "\n"
   ]
  },
  {
   "cell_type": "code",
   "execution_count": 21,
   "id": "66c0c9e9-0f59-4270-9118-0b8fb42af6ae",
   "metadata": {},
   "outputs": [],
   "source": [
    "corpus = \"Hello everyone, I am Ankit Ghosh. I live in CHennai. I am from West Bengal.\"\n",
    "document=tokenizer.tokenize(corpus)"
   ]
  },
  {
   "cell_type": "code",
   "execution_count": 22,
   "id": "89463253-ada2-41b5-a96a-60f612b0cff8",
   "metadata": {},
   "outputs": [
    {
     "data": {
      "text/plain": [
       "['Hello',\n",
       " 'everyone',\n",
       " ',',\n",
       " 'I',\n",
       " 'am',\n",
       " 'Ankit',\n",
       " 'Ghosh.',\n",
       " 'I',\n",
       " 'live',\n",
       " 'in',\n",
       " 'CHennai.',\n",
       " 'I',\n",
       " 'am',\n",
       " 'from',\n",
       " 'West',\n",
       " 'Bengal',\n",
       " '.']"
      ]
     },
     "execution_count": 22,
     "metadata": {},
     "output_type": "execute_result"
    }
   ],
   "source": [
    "document"
   ]
  },
  {
   "cell_type": "code",
   "execution_count": 23,
   "id": "514cacc2-1915-42f2-bf8a-4072315a32f8",
   "metadata": {},
   "outputs": [
    {
     "data": {
      "text/plain": [
       "list"
      ]
     },
     "execution_count": 23,
     "metadata": {},
     "output_type": "execute_result"
    }
   ],
   "source": [
    "type(document)"
   ]
  },
  {
   "cell_type": "code",
   "execution_count": 24,
   "id": "2967fdba-044d-4716-961d-4ef611de8656",
   "metadata": {},
   "outputs": [
    {
     "name": "stdout",
     "output_type": "stream",
     "text": [
      "Hello\n",
      "everyone\n",
      ",\n",
      "I\n",
      "am\n",
      "Ankit\n",
      "Ghosh.\n",
      "I\n",
      "live\n",
      "in\n",
      "CHennai.\n",
      "I\n",
      "am\n",
      "from\n",
      "West\n",
      "Bengal\n",
      ".\n"
     ]
    }
   ],
   "source": [
    "for sentences in document:\n",
    "    print(sentences)"
   ]
  },
  {
   "cell_type": "code",
   "execution_count": 25,
   "id": "9489ca57-972a-45e7-bd9b-a60dde596559",
   "metadata": {},
   "outputs": [],
   "source": [
    "#tokenization\n",
    "# Paragraph -> Words\n",
    "#Sentence -> Words\n",
    "from nltk.tokenize import word_tokenize"
   ]
  },
  {
   "cell_type": "code",
   "execution_count": 26,
   "id": "e2ca18b5-89e3-4542-a820-9ff8a7c53feb",
   "metadata": {},
   "outputs": [
    {
     "data": {
      "text/plain": [
       "['Hello',\n",
       " 'everyone',\n",
       " ',',\n",
       " 'I',\n",
       " 'am',\n",
       " 'Ankit',\n",
       " 'Ghosh',\n",
       " '.',\n",
       " 'I',\n",
       " 'live',\n",
       " 'in',\n",
       " 'CHennai',\n",
       " '.',\n",
       " 'I',\n",
       " 'am',\n",
       " 'from',\n",
       " 'West',\n",
       " 'Bengal',\n",
       " '.']"
      ]
     },
     "execution_count": 26,
     "metadata": {},
     "output_type": "execute_result"
    }
   ],
   "source": [
    "word_tokenize(corpus)"
   ]
  },
  {
   "cell_type": "code",
   "execution_count": 27,
   "id": "af8ac266-808f-498a-9534-e6ed4e605dd4",
   "metadata": {},
   "outputs": [
    {
     "name": "stdout",
     "output_type": "stream",
     "text": [
      "['Hello']\n",
      "['everyone']\n",
      "[',']\n",
      "['I']\n",
      "['am']\n",
      "['Ankit']\n",
      "['Ghosh', '.']\n",
      "['I']\n",
      "['live']\n",
      "['in']\n",
      "['CHennai', '.']\n",
      "['I']\n",
      "['am']\n",
      "['from']\n",
      "['West']\n",
      "['Bengal']\n",
      "['.']\n"
     ]
    }
   ],
   "source": [
    "for sentences in document:\n",
    "    print(word_tokenize(sentences))"
   ]
  },
  {
   "cell_type": "code",
   "execution_count": 29,
   "id": "a3251bee-9578-4750-b2ff-d1527d887985",
   "metadata": {},
   "outputs": [
    {
     "data": {
      "text/plain": [
       "['Hello',\n",
       " 'everyone',\n",
       " ',',\n",
       " 'I',\n",
       " 'am',\n",
       " 'Ankit',\n",
       " 'Ghosh.',\n",
       " 'I',\n",
       " 'live',\n",
       " 'in',\n",
       " 'CHennai.',\n",
       " 'I',\n",
       " 'am',\n",
       " 'from',\n",
       " 'West',\n",
       " 'Bengal',\n",
       " '.']"
      ]
     },
     "execution_count": 29,
     "metadata": {},
     "output_type": "execute_result"
    }
   ],
   "source": [
    "from nltk.tokenize import TreebankWordTokenizer\n",
    "\n",
    "tokenizer=TreebankWordTokenizer()\n",
    "\n",
    "tokenizer.tokenize(corpus) \n",
    "#here except for the last fullstop \".\" all other \".\" fullstop are not treated as a word but previously it was"
   ]
  },
  {
   "cell_type": "code",
   "execution_count": null,
   "id": "35b45456-da4d-4e8a-9b15-819a8631552d",
   "metadata": {},
   "outputs": [],
   "source": []
  }
 ],
 "metadata": {
  "kernelspec": {
   "display_name": "Python 3 (ipykernel)",
   "language": "python",
   "name": "python3"
  },
  "language_info": {
   "codemirror_mode": {
    "name": "ipython",
    "version": 3
   },
   "file_extension": ".py",
   "mimetype": "text/x-python",
   "name": "python",
   "nbconvert_exporter": "python",
   "pygments_lexer": "ipython3",
   "version": "3.9.13"
  }
 },
 "nbformat": 4,
 "nbformat_minor": 5
}
