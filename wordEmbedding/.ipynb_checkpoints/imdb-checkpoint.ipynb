{
 "cells": [
  {
   "cell_type": "code",
   "execution_count": 1,
   "id": "9598e0a5-193b-424b-a98d-2037cd68ff3e",
   "metadata": {},
   "outputs": [],
   "source": [
    "#this is for imdb data set for nlp"
   ]
  },
  {
   "cell_type": "markdown",
   "id": "6997e2ee-9691-453c-8202-92cea9583d97",
   "metadata": {},
   "source": [
    "#### To classify IMDb movie reviews as positive or negative"
   ]
  },
  {
   "cell_type": "code",
   "execution_count": null,
   "id": "a7f53b14-6bc9-4ece-bcbe-0d2b33ab6588",
   "metadata": {},
   "outputs": [],
   "source": [
    "pip install torchtext==0.14.1"
   ]
  },
  {
   "cell_type": "code",
   "execution_count": null,
   "id": "3cef83a5-a75f-457f-a01d-d5222e6fd68d",
   "metadata": {},
   "outputs": [],
   "source": [
    "import torch\n",
    "from torchtext.datasets import IMDB"
   ]
  },
  {
   "cell_type": "code",
   "execution_count": null,
   "id": "e748144e-a231-4ae9-8b7b-2e235a8f52cd",
   "metadata": {},
   "outputs": [],
   "source": []
  }
 ],
 "metadata": {
  "kernelspec": {
   "display_name": "Python 3 (ipykernel)",
   "language": "python",
   "name": "python3"
  },
  "language_info": {
   "codemirror_mode": {
    "name": "ipython",
    "version": 3
   },
   "file_extension": ".py",
   "mimetype": "text/x-python",
   "name": "python",
   "nbconvert_exporter": "python",
   "pygments_lexer": "ipython3",
   "version": "3.9.13"
  }
 },
 "nbformat": 4,
 "nbformat_minor": 5
}
