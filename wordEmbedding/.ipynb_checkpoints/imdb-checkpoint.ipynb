{
 "cells": [
  {
   "cell_type": "code",
   "execution_count": 4,
   "id": "9598e0a5-193b-424b-a98d-2037cd68ff3e",
   "metadata": {},
   "outputs": [],
   "source": [
    "#this is for imdb data set for nlp"
   ]
  },
  {
   "cell_type": "markdown",
   "id": "6997e2ee-9691-453c-8202-92cea9583d97",
   "metadata": {},
   "source": [
    "#### To classify IMDb movie reviews as positive or negative"
   ]
  },
  {
   "cell_type": "code",
   "execution_count": 5,
   "id": "e748144e-a231-4ae9-8b7b-2e235a8f52cd",
   "metadata": {},
   "outputs": [],
   "source": [
    "import tensorflow as tf\n",
    "from tensorflow.keras.datasets import imdb"
   ]
  },
  {
   "cell_type": "code",
   "execution_count": 6,
   "id": "a5b28466-05c4-4963-b976-5d18ff47a93b",
   "metadata": {},
   "outputs": [],
   "source": [
    "(x_train, y_train), (x_test, y_test) = imdb.load_data(num_words=10000)"
   ]
  },
  {
   "cell_type": "code",
   "execution_count": 7,
   "id": "e277adfd-5766-4a8c-848c-3b68be5e125b",
   "metadata": {},
   "outputs": [
    {
     "name": "stdout",
     "output_type": "stream",
     "text": [
      "Train samples: 25000, Test samples: 25000\n",
      "First review (word indices): [1, 14, 22, 16, 43, 530, 973, 1622, 1385, 65, 458, 4468, 66, 3941, 4, 173, 36, 256, 5, 25, 100, 43, 838, 112, 50, 670, 2, 9, 35, 480, 284, 5, 150, 4, 172, 112, 167, 2, 336, 385, 39, 4, 172, 4536, 1111, 17, 546, 38, 13, 447, 4, 192, 50, 16, 6, 147, 2025, 19, 14, 22, 4, 1920, 4613, 469, 4, 22, 71, 87, 12, 16, 43, 530, 38, 76, 15, 13, 1247, 4, 22, 17, 515, 17, 12, 16, 626, 18, 2, 5, 62, 386, 12, 8, 316, 8, 106, 5, 4, 2223, 5244, 16, 480, 66, 3785, 33, 4, 130, 12, 16, 38, 619, 5, 25, 124, 51, 36, 135, 48, 25, 1415, 33, 6, 22, 12, 215, 28, 77, 52, 5, 14, 407, 16, 82, 2, 8, 4, 107, 117, 5952, 15, 256, 4, 2, 7, 3766, 5, 723, 36, 71, 43, 530, 476, 26, 400, 317, 46, 7, 4, 2, 1029, 13, 104, 88, 4, 381, 15, 297, 98, 32, 2071, 56, 26, 141, 6, 194, 7486, 18, 4, 226, 22, 21, 134, 476, 26, 480, 5, 144, 30, 5535, 18, 51, 36, 28, 224, 92, 25, 104, 4, 226, 65, 16, 38, 1334, 88, 12, 16, 283, 5, 16, 4472, 113, 103, 32, 15, 16, 5345, 19, 178, 32]\n",
      "First label: 1\n"
     ]
    }
   ],
   "source": [
    "print(f\"Train samples: {len(x_train)}, Test samples: {len(x_test)}\")\n",
    "print(\"First review (word indices):\", x_train[0])\n",
    "print(\"First label:\", y_train[0])"
   ]
  },
  {
   "cell_type": "markdown",
   "id": "194764b6-ad5f-42d9-b991-fd8a2828c204",
   "metadata": {},
   "source": [
    "# Step 1: Decode the Indices to Words"
   ]
  },
  {
   "cell_type": "code",
   "execution_count": 8,
   "id": "8c15ec46-a64e-490f-a0f5-2fa94a17fa57",
   "metadata": {},
   "outputs": [],
   "source": [
    "#index for words \n",
    "#word -> 1, 2 (index)\n",
    "word_index=imdb.get_word_index()"
   ]
  },
  {
   "cell_type": "markdown",
   "id": "bc319899-53e1-4245-99c9-99cbf0cfae4b",
   "metadata": {},
   "source": [
    "##### {value: key ...} This builds a new dictionary where value becomes the key and key becomes the value:\n",
    "\n",
    "##### 1st: 1: 'the'\n",
    "\n",
    "##### 2nd: 2: 'and'"
   ]
  },
  {
   "cell_type": "code",
   "execution_count": 9,
   "id": "d9d32c92-5deb-435e-ab0d-510fefef79a3",
   "metadata": {},
   "outputs": [],
   "source": [
    "reverse_word_index= {value: key for key, value in word_index.items()}"
   ]
  },
  {
   "cell_type": "code",
   "execution_count": 10,
   "id": "e22e37cd-e035-4fe3-afd3-cda4d002f768",
   "metadata": {},
   "outputs": [
    {
     "name": "stdout",
     "output_type": "stream",
     "text": [
      "? this film was just brilliant casting location scenery story direction everyone's really suited the part they played and you could just imagine being there robert ? is an amazing actor and now the same being director ? father came from the same scottish island as myself so i loved the fact there was a real connection with this film the witty remarks throughout the film were great it was just brilliant so much that i bought the film as soon as it was released for ? and would recommend it to everyone to watch and the fly fishing was amazing really cried at the end it was so sad and you know what they say if you cry at a film it must have been good and this definitely was also ? to the two little boy's that played the ? of norman and paul they were just brilliant children are often left out of the ? list i think because the stars that play them all grown up are such a big profile for the whole film but these children are amazing and should be praised for what they have done don't you think the whole story was so lovely because it was true and was someone's life after all that was shared with us all\n"
     ]
    }
   ],
   "source": [
    "# Decode the first review (word indices)\n",
    "decoded_review = ' '.join([reverse_word_index.get(i - 3, '?') for i in x_train[0]])\n",
    "\n",
    "# Print the decoded review\n",
    "print(decoded_review)"
   ]
  },
  {
   "cell_type": "markdown",
   "id": "49416185-4e28-49d9-81aa-29f7ec52b8e4",
   "metadata": {},
   "source": [
    "# Step 2 Pad Sequences to Same Length"
   ]
  },
  {
   "cell_type": "code",
   "execution_count": 11,
   "id": "be1a63b0-c5c7-490b-908b-5563e20a5b7f",
   "metadata": {},
   "outputs": [],
   "source": [
    "from tensorflow.keras.preprocessing.sequence import pad_sequences"
   ]
  },
  {
   "cell_type": "code",
   "execution_count": 12,
   "id": "6e4f601e-c4d8-45cd-8dd7-6bb71b1a099f",
   "metadata": {},
   "outputs": [
    {
     "name": "stdout",
     "output_type": "stream",
     "text": [
      "Train data shape: (25000, 500)\n",
      "Test data shape: (25000, 500)\n"
     ]
    }
   ],
   "source": [
    "max_len= 500\n",
    "\n",
    "x_train_padded= pad_sequences(x_train, maxlen=max_len, padding='post', truncating='post')\n",
    "x_test_padded= pad_sequences(x_test, maxlen=max_len, padding='post', truncating='post')\n",
    "\n",
    "print(f\"Train data shape: {x_train_padded.shape}\")\n",
    "print(f\"Test data shape: {x_test_padded.shape}\")"
   ]
  },
  {
   "cell_type": "markdown",
   "id": "71607ce0-35ce-4c01-bbb6-58179d28a209",
   "metadata": {},
   "source": [
    "##### here I have used padding= post this means when review is smaller than 500(max len) then it will fill the rest as 0's\n",
    "##### and truncating='post' this meaning if some review is more than 500(max len) then iut will cut the rest and "
   ]
  },
  {
   "cell_type": "markdown",
   "id": "61c09896-1c24-4333-ae3d-7dfca8cc6d02",
   "metadata": {},
   "source": [
    "# Step 3 Prepare GloVe Embeddings"
   ]
  },
  {
   "cell_type": "code",
   "execution_count": 14,
   "id": "9765b9a4-3044-458d-8a7c-fdfff48d1a01",
   "metadata": {},
   "outputs": [],
   "source": [
    "import numpy as np\n",
    "\n",
    "glove_path= 'D:\\glove.6B\\glove.6B.100d.txt'\n",
    "\n",
    "embedding_index={}\n",
    "\n",
    "with open(glove_path, 'r', encoding='utfs') as f:\n",
    "    for line in f:\n",
    "        values=line.split\n",
    "        "
   ]
  },
  {
   "cell_type": "code",
   "execution_count": null,
   "id": "7f4113e3-2e26-405b-bed0-fb6e34d36699",
   "metadata": {},
   "outputs": [],
   "source": []
  }
 ],
 "metadata": {
  "kernelspec": {
   "display_name": "Python 3 (ipykernel)",
   "language": "python",
   "name": "python3"
  },
  "language_info": {
   "codemirror_mode": {
    "name": "ipython",
    "version": 3
   },
   "file_extension": ".py",
   "mimetype": "text/x-python",
   "name": "python",
   "nbconvert_exporter": "python",
   "pygments_lexer": "ipython3",
   "version": "3.9.13"
  }
 },
 "nbformat": 4,
 "nbformat_minor": 5
}
