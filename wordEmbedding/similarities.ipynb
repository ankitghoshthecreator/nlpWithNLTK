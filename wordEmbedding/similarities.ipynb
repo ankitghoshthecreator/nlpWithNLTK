{
 "cells": [
  {
   "cell_type": "code",
   "execution_count": 1,
   "id": "d6408207-3723-4fda-8ab6-6aa0d32492d9",
   "metadata": {},
   "outputs": [],
   "source": [
    "from sklearn.metrics.pairwise import cosine_similarity\n",
    "import numpy as np"
   ]
  },
  {
   "cell_type": "code",
   "execution_count": 6,
   "id": "ea7cf694-22f6-46d1-bed0-ca4a0cf614c3",
   "metadata": {},
   "outputs": [],
   "source": [
    "def load_glove_embeddings(file_path):\n",
    "    embeddings = {}  # fixed variable name\n",
    "\n",
    "    with open(file_path, 'r', encoding='utf8') as f:\n",
    "        for line in f:\n",
    "            values = line.split()\n",
    "            word = values[0]\n",
    "            vector = np.array(values[1:], dtype='float32')\n",
    "            embeddings[word] = vector\n",
    "    return embeddings"
   ]
  },
  {
   "cell_type": "code",
   "execution_count": 7,
   "id": "8bf13964-4ab0-4ce9-a58c-c11b7baa1dfe",
   "metadata": {},
   "outputs": [],
   "source": [
    "glove_path = \"D:/glove.6B/glove.6B.100d.txt\"\n",
    "glove_embeddings = load_glove_embeddings(glove_path)"
   ]
  },
  {
   "cell_type": "code",
   "execution_count": 8,
   "id": "32bab924-5418-4bc1-be48-2c7fe7e2caff",
   "metadata": {},
   "outputs": [
    {
     "name": "stdout",
     "output_type": "stream",
     "text": [
      "Similarity (king vs queen): 0.7508\n"
     ]
    }
   ],
   "source": [
    "def compare(w1, w2, embeddings):\n",
    "    if w1 not in embeddings or w2 not in embeddings:\n",
    "        return \"one of the word not in embeddings\"\n",
    "\n",
    "    v1= embeddings[w1].reshape(1,-1)\n",
    "    v2= embeddings[w2].reshape(1,-1)\n",
    "\n",
    "    sim=cosine_similarity(v1, v2)[0][0]\n",
    "    return round(sim,4)\n",
    "print(\"Similarity (king vs queen):\", compare(\"king\", \"queen\", glove_embeddings))"
   ]
  },
  {
   "cell_type": "code",
   "execution_count": null,
   "id": "cf449381-8b09-4287-ab76-fee228a973fd",
   "metadata": {},
   "outputs": [],
   "source": []
  }
 ],
 "metadata": {
  "kernelspec": {
   "display_name": "Python 3 (ipykernel)",
   "language": "python",
   "name": "python3"
  },
  "language_info": {
   "codemirror_mode": {
    "name": "ipython",
    "version": 3
   },
   "file_extension": ".py",
   "mimetype": "text/x-python",
   "name": "python",
   "nbconvert_exporter": "python",
   "pygments_lexer": "ipython3",
   "version": "3.9.13"
  }
 },
 "nbformat": 4,
 "nbformat_minor": 5
}
