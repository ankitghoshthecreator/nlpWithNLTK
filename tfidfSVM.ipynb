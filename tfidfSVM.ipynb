{
 "cells": [
  {
   "cell_type": "code",
   "execution_count": 5,
   "id": "438cbf14-d38f-42d5-9387-528ac43fc749",
   "metadata": {},
   "outputs": [],
   "source": [
    "import pandas as pd\n",
    "import nltk\n",
    "from nltk.corpus import stopwords\n",
    "from nltk.stem import WordNetLemmatizer\n",
    "import string"
   ]
  },
  {
   "cell_type": "code",
   "execution_count": 6,
   "id": "f3ba1ee0-f2cf-4824-b896-50e6ab4c8493",
   "metadata": {},
   "outputs": [
    {
     "name": "stdout",
     "output_type": "stream",
     "text": [
      "                                             text     label\n",
      "0    New smartphone released with advanced camera      tech\n",
      "1          Government passes a new education bill  politics\n",
      "2             Football world cup coming next year    sports\n",
      "3            Technology is evolving rapidly in AI      tech\n",
      "4  President addresses the nation on new policies  politics\n",
      "5             Champions League final was exciting    sports\n",
      "6          Machine learning is the future of tech      tech\n",
      "7              Olympics scheduled for this summer    sports\n",
      "8        Election campaigns have begun nationwide  politics\n"
     ]
    }
   ],
   "source": [
    "\n",
    "data = {\n",
    "    'text': [\n",
    "        \"New smartphone released with advanced camera\",\n",
    "        \"Government passes a new education bill\",\n",
    "        \"Football world cup coming next year\",\n",
    "        \"Technology is evolving rapidly in AI\",\n",
    "        \"President addresses the nation on new policies\",\n",
    "        \"Champions League final was exciting\",\n",
    "        \"Machine learning is the future of tech\",\n",
    "        \"Olympics scheduled for this summer\",\n",
    "        \"Election campaigns have begun nationwide\"\n",
    "    ],\n",
    "    'label': [\n",
    "        'tech',\n",
    "        'politics',\n",
    "        'sports',\n",
    "        'tech',\n",
    "        'politics',\n",
    "        'sports',\n",
    "        'tech',\n",
    "        'sports',\n",
    "        'politics'\n",
    "    ]\n",
    "}\n",
    "\n",
    "df = pd.DataFrame(data)\n",
    "print(df)"
   ]
  },
  {
   "cell_type": "code",
   "execution_count": 22,
   "id": "61a8b49d-d608-4473-a462-a7b4941a45fe",
   "metadata": {},
   "outputs": [
    {
     "name": "stdout",
     "output_type": "stream",
     "text": [
      "                                             text  \\\n",
      "0    New smartphone released with advanced camera   \n",
      "1          Government passes a new education bill   \n",
      "2             Football world cup coming next year   \n",
      "3            Technology is evolving rapidly in AI   \n",
      "4  President addresses the nation on new policies   \n",
      "5             Champions League final was exciting   \n",
      "6          Machine learning is the future of tech   \n",
      "7              Olympics scheduled for this summer   \n",
      "8        Election campaigns have begun nationwide   \n",
      "\n",
      "                                clean_text  \n",
      "0  new smartphone released advanced camera  \n",
      "1       government pass new education bill  \n",
      "2      football world cup coming next year  \n",
      "3           technology evolving rapidly ai  \n",
      "4      president address nation new policy  \n",
      "5           champion league final exciting  \n",
      "6             machine learning future tech  \n",
      "7                olympics scheduled summer  \n",
      "8       election campaign begun nationwide  \n"
     ]
    }
   ],
   "source": [
    "lemmatizer=WordNetLemmatizer()\n",
    "stopW=set(stopwords.words('english'))\n",
    "\n",
    "\n",
    "def preprocess(text):\n",
    "    text = text.lower()\n",
    "    tokens = nltk.word_tokenize(text)\n",
    "    \n",
    "    cleaned = [lemmatizer.lemmatize(word) for word in tokens if word not in string.punctuation and word not in stopW]\n",
    "    return ' '.join(cleaned)\n",
    "\n",
    "df['clean_text'] = df['text'].apply(preprocess)\n",
    "\n",
    "print(df[['text', 'clean_text']])"
   ]
  },
  {
   "cell_type": "code",
   "execution_count": 24,
   "id": "d54eb2fa-8ee8-4ebf-b407-1c71b8e5a99f",
   "metadata": {},
   "outputs": [],
   "source": [
    "from sklearn.feature_extraction.text import TfidfVectorizer\n",
    "\n",
    "vector=TfidfVectorizer()\n",
    "\n",
    "x=vector.fit_transform(df['clean_text'])\n",
    "y=df['label']\n"
   ]
  },
  {
   "cell_type": "code",
   "execution_count": 26,
   "id": "3d8539ba-efe6-4a61-8fed-23d59134199a",
   "metadata": {},
   "outputs": [],
   "source": [
    "from sklearn.model_selection import train_test_split\n",
    "\n",
    "x_train, x_test, y_train, y_test= train_test_split(x, y,test_size=0.3, random_state=42)"
   ]
  },
  {
   "cell_type": "code",
   "execution_count": 29,
   "id": "ebe284e8-a6fd-4fd9-af0b-e834dd348f79",
   "metadata": {},
   "outputs": [
    {
     "name": "stdout",
     "output_type": "stream",
     "text": [
      "accuracy:  0.0\n"
     ]
    }
   ],
   "source": [
    "from sklearn.svm import LinearSVC\n",
    "from sklearn.metrics import accuracy_score\n",
    "\n",
    "clf=LinearSVC()\n",
    "clf.fit(x_train,y_train)\n",
    "\n",
    "y_pred=clf.predict(x_test)\n",
    "\n",
    "print (\"accuracy: \", accuracy_score(y_test, y_pred))\n"
   ]
  },
  {
   "cell_type": "code",
   "execution_count": 31,
   "id": "da69da7a-7303-4a49-9e94-d1341078a17e",
   "metadata": {},
   "outputs": [],
   "source": [
    "def classify_input(user_input):\n",
    "    processed = preprocess(user_input)\n",
    "    vector = tfidf.transform([processed])\n",
    "    prediction = clf.predict(vector)[0]\n",
    "    return prediction\n",
    "\n"
   ]
  },
  {
   "cell_type": "code",
   "execution_count": 32,
   "id": "90122cb0-1ab1-4bd0-b5c2-091caf9c9364",
   "metadata": {},
   "outputs": [
    {
     "ename": "NameError",
     "evalue": "name 'tfidf' is not defined",
     "output_type": "error",
     "traceback": [
      "\u001b[1;31m---------------------------------------------------------------------------\u001b[0m",
      "\u001b[1;31mNameError\u001b[0m                                 Traceback (most recent call last)",
      "Cell \u001b[1;32mIn[32], line 2\u001b[0m\n\u001b[0;32m      1\u001b[0m user_input \u001b[38;5;241m=\u001b[39m \u001b[38;5;124m\"\u001b[39m\u001b[38;5;124mApple launches a new AI chip\u001b[39m\u001b[38;5;124m\"\u001b[39m\n\u001b[1;32m----> 2\u001b[0m \u001b[38;5;28mprint\u001b[39m(\u001b[38;5;124m\"\u001b[39m\u001b[38;5;124mPredicted Category:\u001b[39m\u001b[38;5;124m\"\u001b[39m, \u001b[43mclassify_input\u001b[49m\u001b[43m(\u001b[49m\u001b[43muser_input\u001b[49m\u001b[43m)\u001b[49m)\n",
      "Cell \u001b[1;32mIn[31], line 3\u001b[0m, in \u001b[0;36mclassify_input\u001b[1;34m(user_input)\u001b[0m\n\u001b[0;32m      1\u001b[0m \u001b[38;5;28;01mdef\u001b[39;00m\u001b[38;5;250m \u001b[39m\u001b[38;5;21mclassify_input\u001b[39m(user_input):\n\u001b[0;32m      2\u001b[0m     processed \u001b[38;5;241m=\u001b[39m preprocess(user_input)\n\u001b[1;32m----> 3\u001b[0m     vector \u001b[38;5;241m=\u001b[39m \u001b[43mtfidf\u001b[49m\u001b[38;5;241m.\u001b[39mtransform([processed])\n\u001b[0;32m      4\u001b[0m     prediction \u001b[38;5;241m=\u001b[39m clf\u001b[38;5;241m.\u001b[39mpredict(vector)[\u001b[38;5;241m0\u001b[39m]\n\u001b[0;32m      5\u001b[0m     \u001b[38;5;28;01mreturn\u001b[39;00m prediction\n",
      "\u001b[1;31mNameError\u001b[0m: name 'tfidf' is not defined"
     ]
    }
   ],
   "source": [
    "user_input = \"Apple launches a new AI chip\"\n",
    "print(\"Predicted Category:\", classify_input(user_input))"
   ]
  },
  {
   "cell_type": "code",
   "execution_count": null,
   "id": "7d1770ea-d574-4182-828e-e829237a78f1",
   "metadata": {},
   "outputs": [],
   "source": []
  }
 ],
 "metadata": {
  "kernelspec": {
   "display_name": "Python 3 (ipykernel)",
   "language": "python",
   "name": "python3"
  },
  "language_info": {
   "codemirror_mode": {
    "name": "ipython",
    "version": 3
   },
   "file_extension": ".py",
   "mimetype": "text/x-python",
   "name": "python",
   "nbconvert_exporter": "python",
   "pygments_lexer": "ipython3",
   "version": "3.9.13"
  }
 },
 "nbformat": 4,
 "nbformat_minor": 5
}
