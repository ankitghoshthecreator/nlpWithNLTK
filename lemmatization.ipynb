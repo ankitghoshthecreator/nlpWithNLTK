{
 "cells": [
  {
   "cell_type": "code",
   "execution_count": 1,
   "id": "e0fe14be-1fa9-4dbc-97c6-77bec71891e6",
   "metadata": {},
   "outputs": [],
   "source": [
    "#when it comes to trainiung or making a chat we can nor use stemming due to its limiting factor\n",
    "#of changing the form of the word and changing mening of the word\n",
    "#to overcome that problem we use lemmatization which has a very big base root words"
   ]
  },
  {
   "cell_type": "code",
   "execution_count": 10,
   "id": "7e2610a2-bac4-4bf0-961c-e5efa87023aa",
   "metadata": {},
   "outputs": [],
   "source": [
    "#lemmatization is similar to stemming the output we get after is called a \"lemma\""
   ]
  },
  {
   "cell_type": "code",
   "execution_count": 11,
   "id": "24f89b35-5c6a-4506-96af-74038d3d71f1",
   "metadata": {},
   "outputs": [
    {
     "name": "stderr",
     "output_type": "stream",
     "text": [
      "[nltk_data] Downloading package wordnet to\n",
      "[nltk_data]     C:\\Users\\Ankit\\AppData\\Roaming\\nltk_data...\n"
     ]
    },
    {
     "data": {
      "text/plain": [
       "True"
      ]
     },
     "execution_count": 11,
     "metadata": {},
     "output_type": "execute_result"
    }
   ],
   "source": [
    "import nltk\n",
    "nltk.download('wordnet')"
   ]
  },
  {
   "cell_type": "code",
   "execution_count": 12,
   "id": "0a4ce63d-a816-4fb0-8d9b-2b71f2a65c37",
   "metadata": {},
   "outputs": [
    {
     "name": "stderr",
     "output_type": "stream",
     "text": [
      "[nltk_data] Downloading package omw-1.4 to\n",
      "[nltk_data]     C:\\Users\\Ankit\\AppData\\Roaming\\nltk_data...\n"
     ]
    },
    {
     "data": {
      "text/plain": [
       "True"
      ]
     },
     "execution_count": 12,
     "metadata": {},
     "output_type": "execute_result"
    }
   ],
   "source": [
    "nltk.download('omw-1.4')  # WordNet's Open Multilingual Wordnet – helps with lemmatization"
   ]
  },
  {
   "cell_type": "code",
   "execution_count": 13,
   "id": "6fc4d724-25db-498e-aa18-750b9145a105",
   "metadata": {},
   "outputs": [
    {
     "data": {
      "text/plain": [
       "'here we are going to use WordNet Lemmatizer'"
      ]
     },
     "execution_count": 13,
     "metadata": {},
     "output_type": "execute_result"
    }
   ],
   "source": [
    "\"\"\"here we are going to use WordNet Lemmatizer\"\"\""
   ]
  },
  {
   "cell_type": "code",
   "execution_count": 14,
   "id": "3ce16ee6-fb6e-4489-a7d0-1df4c03613bc",
   "metadata": {},
   "outputs": [],
   "source": [
    "from nltk.stem import WordNetLemmatizer"
   ]
  },
  {
   "cell_type": "code",
   "execution_count": 19,
   "id": "63841453-2e9e-48fc-a9f0-96dc2b68d14c",
   "metadata": {},
   "outputs": [
    {
     "name": "stdout",
     "output_type": "stream",
     "text": [
      "going\n"
     ]
    },
    {
     "data": {
      "text/plain": [
       "'noun= n\\n   verb=v\\n   adjective=a\\n   adverb=r'"
      ]
     },
     "execution_count": 19,
     "metadata": {},
     "output_type": "execute_result"
    }
   ],
   "source": [
    "lemmatizer=WordNetLemmatizer()\n",
    "print(lemmatizer.lemmatize(\"going\")) # this will return 'going' because now this thing is treated as a noun \n",
    "#we need to pass another arguement called poss that depicts what type of the word is \n",
    "'''noun= n\n",
    "   verb=v\n",
    "   adjective=a\n",
    "   adverb=r'''"
   ]
  },
  {
   "cell_type": "code",
   "execution_count": 23,
   "id": "428d4828-6165-4844-97e0-9a1f66b14602",
   "metadata": {},
   "outputs": [
    {
     "name": "stdout",
     "output_type": "stream",
     "text": [
      "go\n"
     ]
    }
   ],
   "source": [
    "#now with pos arguement \n",
    "print(lemmatizer.lemmatize(\"going\", pos='v'))"
   ]
  },
  {
   "cell_type": "code",
   "execution_count": 24,
   "id": "8337d41b-dbe4-487a-9763-c2f26e87ab79",
   "metadata": {},
   "outputs": [],
   "source": [
    "words=[\"eating\", \"eat\", \"eaten\", \"writing\", \"writes\", \"programming\", \"programs\", \"history\", \"final\", \"finalized\"]"
   ]
  },
  {
   "cell_type": "code",
   "execution_count": 27,
   "id": "2ca206e0-562e-4286-9d32-adf05e3023d6",
   "metadata": {},
   "outputs": [
    {
     "name": "stdout",
     "output_type": "stream",
     "text": [
      "eat\n",
      "eat\n",
      "eat\n",
      "write\n",
      "write\n",
      "program\n",
      "program\n",
      "history\n",
      "final\n",
      "finalize\n"
     ]
    }
   ],
   "source": [
    "for word in words:\n",
    "    print(lemmatizer.lemmatize(word, pos='v'))\n",
    "#now this will give the best output"
   ]
  },
  {
   "cell_type": "code",
   "execution_count": null,
   "id": "3c049dcc-d7cf-4708-9d3a-73b61281357d",
   "metadata": {},
   "outputs": [],
   "source": []
  }
 ],
 "metadata": {
  "kernelspec": {
   "display_name": "Python 3 (ipykernel)",
   "language": "python",
   "name": "python3"
  },
  "language_info": {
   "codemirror_mode": {
    "name": "ipython",
    "version": 3
   },
   "file_extension": ".py",
   "mimetype": "text/x-python",
   "name": "python",
   "nbconvert_exporter": "python",
   "pygments_lexer": "ipython3",
   "version": "3.9.13"
  }
 },
 "nbformat": 4,
 "nbformat_minor": 5
}
