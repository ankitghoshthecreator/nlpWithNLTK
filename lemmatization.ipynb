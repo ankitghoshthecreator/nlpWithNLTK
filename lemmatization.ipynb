{
 "cells": [
  {
   "cell_type": "code",
   "execution_count": null,
   "id": "e0fe14be-1fa9-4dbc-97c6-77bec71891e6",
   "metadata": {},
   "outputs": [],
   "source": [
    "#when it comes to trainiung or making a chat we can nor use stemming due to its limiting factor\n",
    "#of changing the form of the word and changing mening of the word\n",
    "#to overcome that problem we use lemmatization which has a very big base root words"
   ]
  }
 ],
 "metadata": {
  "kernelspec": {
   "display_name": "Python 3 (ipykernel)",
   "language": "python",
   "name": "python3"
  },
  "language_info": {
   "codemirror_mode": {
    "name": "ipython",
    "version": 3
   },
   "file_extension": ".py",
   "mimetype": "text/x-python",
   "name": "python",
   "nbconvert_exporter": "python",
   "pygments_lexer": "ipython3",
   "version": "3.9.13"
  }
 },
 "nbformat": 4,
 "nbformat_minor": 5
}
