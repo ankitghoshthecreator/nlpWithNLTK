{
 "cells": [
  {
   "cell_type": "code",
   "execution_count": 1,
   "id": "ccd9b680-89b6-4915-8ba7-95bbb24df5b3",
   "metadata": {},
   "outputs": [],
   "source": [
    "import nltk\n",
    "from sklearn.feature_extraction.text import CountVectorizer\n",
    "from sklearn.metrics.pairwise import cosine_similarity"
   ]
  },
  {
   "cell_type": "code",
   "execution_count": 2,
   "id": "c75f0ef9-6205-42de-b290-633dce25ecbc",
   "metadata": {},
   "outputs": [],
   "source": [
    "# 1. Sample documents\n",
    "documents = [\n",
    "    \"I love natural language processing\",\n",
    "    \"I enjoy learning about machine learning\",\n",
    "    \"Natural language processing is fascinating\",\n",
    "    \"Deep learning is a branch of machine learning\"\n",
    "]\n"
   ]
  },
  {
   "cell_type": "code",
   "execution_count": 4,
   "id": "ccec32e4-80b4-4ac6-a950-e82e81efcbeb",
   "metadata": {},
   "outputs": [],
   "source": [
    "vectorizer= CountVectorizer()\n",
    "bow=vectorizer.fit_transform(documents)"
   ]
  },
  {
   "cell_type": "code",
   "execution_count": 6,
   "id": "bfe3ed73-0ed9-4742-9be9-1c478001bd34",
   "metadata": {},
   "outputs": [],
   "source": [
    "cos_sim_matrix = cosine_similarity(bow)"
   ]
  },
  {
   "cell_type": "code",
   "execution_count": 7,
   "id": "657dca28-ca85-4b57-85bf-ff266e691052",
   "metadata": {},
   "outputs": [
    {
     "name": "stdout",
     "output_type": "stream",
     "text": [
      "         Doc 1     Doc 2     Doc 3     Doc 4\n",
      "Doc 1  1.00000  0.000000  0.670820  0.000000\n",
      "Doc 2  0.00000  1.000000  0.000000  0.629941\n",
      "Doc 3  0.67082  0.000000  1.000000  0.149071\n",
      "Doc 4  0.00000  0.629941  0.149071  1.000000\n"
     ]
    }
   ],
   "source": [
    "# 4. Display results\n",
    "import pandas as pd\n",
    "\n",
    "df_sim = pd.DataFrame(cos_sim_matrix, columns=[f'Doc {i+1}' for i in range(len(documents))],\n",
    "                      index=[f'Doc {i+1}' for i in range(len(documents))])\n",
    "print(df_sim)\n"
   ]
  },
  {
   "cell_type": "code",
   "execution_count": null,
   "id": "3cd8e9a2-1acc-4430-bd9a-e4dc0ef64d7e",
   "metadata": {},
   "outputs": [],
   "source": []
  }
 ],
 "metadata": {
  "kernelspec": {
   "display_name": "Python 3 (ipykernel)",
   "language": "python",
   "name": "python3"
  },
  "language_info": {
   "codemirror_mode": {
    "name": "ipython",
    "version": 3
   },
   "file_extension": ".py",
   "mimetype": "text/x-python",
   "name": "python",
   "nbconvert_exporter": "python",
   "pygments_lexer": "ipython3",
   "version": "3.9.13"
  }
 },
 "nbformat": 4,
 "nbformat_minor": 5
}
