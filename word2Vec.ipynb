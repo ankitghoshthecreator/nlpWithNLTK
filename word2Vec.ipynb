{
 "cells": [
  {
   "cell_type": "code",
   "execution_count": 3,
   "id": "d575bf2c-aec2-479c-8ba8-fa682e1592b5",
   "metadata": {},
   "outputs": [
    {
     "name": "stderr",
     "output_type": "stream",
     "text": [
      "[nltk_data] Downloading package punkt to\n",
      "[nltk_data]     C:\\Users\\Ankit\\AppData\\Roaming\\nltk_data...\n",
      "[nltk_data]   Package punkt is already up-to-date!\n",
      "[nltk_data] Downloading package stopwords to\n",
      "[nltk_data]     C:\\Users\\Ankit\\AppData\\Roaming\\nltk_data...\n",
      "[nltk_data]   Package stopwords is already up-to-date!\n"
     ]
    },
    {
     "data": {
      "text/plain": [
       "True"
      ]
     },
     "execution_count": 3,
     "metadata": {},
     "output_type": "execute_result"
    }
   ],
   "source": [
    "import nltk\n",
    "import re\n",
    "from nltk.corpus import stopwords\n",
    "from nltk.tokenize import word_tokenize, sent_tokenize\n",
    "\n",
    "nltk.download('punkt')\n",
    "nltk.download('stopwords')"
   ]
  },
  {
   "cell_type": "code",
   "execution_count": 4,
   "id": "22619a60-bbfb-45c9-a89b-ede0bc8274cf",
   "metadata": {},
   "outputs": [],
   "source": [
    "corpus = \"\"\"\n",
    "Natural Language Processing (NLP) is a field of artificial intelligence that focuses on the interaction between computers and humans through natural language.\n",
    "The ultimate goal of NLP is to enable computers to understand, interpret, and generate human language.\n",
    "\"\"\""
   ]
  },
  {
   "cell_type": "code",
   "execution_count": 5,
   "id": "6b045301-6cb0-4059-9063-419cd804c76a",
   "metadata": {},
   "outputs": [],
   "source": [
    "sentences = sent_tokenize(corpus)"
   ]
  },
  {
   "cell_type": "code",
   "execution_count": 6,
   "id": "2f18895c-9244-4f6c-b7c7-a983accfa9a1",
   "metadata": {},
   "outputs": [
    {
     "data": {
      "text/plain": [
       "list"
      ]
     },
     "execution_count": 6,
     "metadata": {},
     "output_type": "execute_result"
    }
   ],
   "source": [
    "type(sentences)"
   ]
  },
  {
   "cell_type": "code",
   "execution_count": 7,
   "id": "3aac3fa9-4c29-4cf4-9130-c91b61188bbd",
   "metadata": {},
   "outputs": [],
   "source": [
    "processed_sentences=[]\n",
    "stopW= set(stopwords.words('english'))\n"
   ]
  },
  {
   "cell_type": "code",
   "execution_count": 9,
   "id": "50799745-77c5-4502-b9a5-5fc293f82674",
   "metadata": {},
   "outputs": [
    {
     "name": "stdout",
     "output_type": "stream",
     "text": [
      "[['natural', 'language', 'processing', 'nlp', 'field', 'artificial', 'intelligence', 'focuses', 'interaction', 'computers', 'humans', 'natural', 'language'], ['ultimate', 'goal', 'nlp', 'enable', 'computers', 'understand', 'interpret', 'generate', 'human', 'language']]\n"
     ]
    }
   ],
   "source": [
    "for sent in sentences:\n",
    "    # Remove punctuation and lowercase\n",
    "    sent = re.sub(r'[^\\w\\s]', '', sent.lower())\n",
    "    \n",
    "    # Tokenize words\n",
    "    words = word_tokenize(sent)\n",
    "    \n",
    "    # Remove stopwords\n",
    "    words = [word for word in words if word not in stopW]\n",
    "    \n",
    "    processed_sentences.append(words)\n",
    "\n",
    "# Final processed data\n",
    "print(processed_sentences)"
   ]
  },
  {
   "cell_type": "code",
   "execution_count": 12,
   "id": "dd0005a1-fb35-41ef-8d19-7420f508a0f7",
   "metadata": {},
   "outputs": [],
   "source": [
    "#!pip install gensim\n"
   ]
  },
  {
   "cell_type": "code",
   "execution_count": 11,
   "id": "d7c71b4f-6a64-4403-989a-b1a804a0c690",
   "metadata": {},
   "outputs": [],
   "source": [
    "from gensim.models import Word2Vec\n",
    "\n",
    "model = Word2Vec(\n",
    "    sentences=processed_sentences,  # list of tokenized sentences\n",
    "    vector_size=100,                # dimensionality of word vectors\n",
    "    window=2,                       # context window size\n",
    "    min_count=1,                    # ignore words with freq < 1\n",
    "    sg=1,                           # 1 = Skip-Gram, 0 = CBOW\n",
    "    workers=4,                      # # of CPU threads\n",
    "    epochs=100                      # # of training iterations\n",
    ")\n"
   ]
  },
  {
   "cell_type": "code",
   "execution_count": 13,
   "id": "95e7f0c1-7809-4a2e-8bb2-d034795d9156",
   "metadata": {},
   "outputs": [],
   "source": [
    "model.save(\"skipgram_word2vec.model\")\n"
   ]
  },
  {
   "cell_type": "code",
   "execution_count": 14,
   "id": "c141f5b0-2cb3-4035-a54e-a0c0c4d57ed6",
   "metadata": {},
   "outputs": [],
   "source": [
    "model = Word2Vec.load(\"skipgram_word2vec.model\")"
   ]
  },
  {
   "cell_type": "code",
   "execution_count": 15,
   "id": "cb39b813-32f3-414d-b06f-3f0fd47af799",
   "metadata": {},
   "outputs": [
    {
     "name": "stdout",
     "output_type": "stream",
     "text": [
      "['language', 'natural', 'nlp', 'computers', 'focuses', 'processing', 'field', 'artificial', 'intelligence', 'human', 'generate', 'humans', 'ultimate', 'goal', 'enable', 'understand', 'interpret', 'interaction']\n"
     ]
    }
   ],
   "source": [
    "print(model.wv.index_to_key)  # List of words in vocab"
   ]
  },
  {
   "cell_type": "code",
   "execution_count": 16,
   "id": "cf39d7fb-0859-4bc0-8a36-076373a9d648",
   "metadata": {},
   "outputs": [
    {
     "name": "stdout",
     "output_type": "stream",
     "text": [
      "[-1.3187095e-03  1.2350722e-03  5.8473037e-03  9.2951693e-03\n",
      " -8.8877045e-03 -7.7542122e-03  7.1425787e-03  1.0321400e-02\n",
      " -5.8120610e-03 -4.5881798e-03  7.7912915e-03 -2.6766502e-03\n",
      " -4.8213499e-03  6.3572335e-03 -4.6341312e-03 -1.9697361e-03\n",
      "  3.3729256e-03  1.1767640e-03 -9.0509467e-03 -1.1164593e-02\n",
      "  7.8347856e-03  5.6690876e-03  8.3271936e-03  6.7085651e-04\n",
      "  5.6954161e-03 -2.6823948e-03 -1.1062155e-03  5.9890305e-03\n",
      " -8.0015352e-03 -3.9047145e-03 -7.4699936e-03 -1.7046328e-03\n",
      "  9.8675909e-03 -8.0135381e-03 -2.4315338e-03 -1.2301764e-03\n",
      "  8.8280523e-03 -5.9090531e-03 -8.3310518e-04 -4.6948809e-03\n",
      " -8.8789547e-03  4.5614010e-03 -9.4836541e-03 -3.5064893e-03\n",
      "  8.3853287e-04 -3.5647498e-04 -8.4183803e-03  9.1853468e-03\n",
      "  5.3080167e-03  9.2860665e-03 -8.2492856e-03  4.1164495e-03\n",
      " -3.8698900e-03  1.6463343e-04  8.0873501e-03 -4.7026007e-03\n",
      "  4.8787110e-03 -7.1137217e-03 -3.2413711e-03  9.8163206e-03\n",
      " -1.7456070e-03 -1.9136902e-04 -3.1132421e-03 -7.5114374e-03\n",
      " -1.6218456e-03  3.1017992e-03 -1.1053677e-03  7.2341748e-03\n",
      " -3.3685253e-03  2.1525796e-03  5.5495524e-03  9.0946415e-03\n",
      " -6.9433474e-04 -8.4750699e-03  4.6330239e-03  8.3876186e-04\n",
      "  8.1478450e-03 -8.6559157e-04 -2.7818489e-03 -9.5158489e-03\n",
      " -1.9815785e-03  2.5446254e-03  5.7105306e-03  7.3405355e-03\n",
      " -6.1746454e-03  1.6144812e-03  6.9758468e-03 -5.0489334e-03\n",
      " -2.8721651e-03  6.7060539e-03  2.1249200e-03  7.2226097e-04\n",
      "  3.9748861e-03 -3.7395017e-05  1.0893843e-02  5.7673808e-03\n",
      " -8.2997736e-03 -7.2536515e-03  1.2712420e-03  6.5886755e-03]\n"
     ]
    }
   ],
   "source": [
    "print(model.wv['language'])  # Vector for the word 'language'\n"
   ]
  },
  {
   "cell_type": "code",
   "execution_count": 17,
   "id": "760bc95d-dc20-4a24-914c-dde66fc46204",
   "metadata": {},
   "outputs": [
    {
     "name": "stdout",
     "output_type": "stream",
     "text": [
      "[('interpret', 0.26646050810813904), ('human', 0.21585491299629211), ('artificial', 0.1391703337430954), ('ultimate', 0.12347730249166489), ('humans', 0.11402726918458939)]\n"
     ]
    }
   ],
   "source": [
    "similar_words = model.wv.most_similar('language', topn=5)\n",
    "print(similar_words)\n"
   ]
  },
  {
   "cell_type": "code",
   "execution_count": 18,
   "id": "6296c9bd-89e5-4d4d-8617-ebe2b7c23239",
   "metadata": {},
   "outputs": [
    {
     "name": "stdout",
     "output_type": "stream",
     "text": [
      "-0.032543037\n"
     ]
    }
   ],
   "source": [
    "score = model.wv.similarity('language', 'computers')\n",
    "print(score)\n"
   ]
  },
  {
   "cell_type": "code",
   "execution_count": 20,
   "id": "f7c111e8-a458-46b9-b35e-a38ea1034b35",
   "metadata": {},
   "outputs": [
    {
     "name": "stdout",
     "output_type": "stream",
     "text": [
      "[('language', 0.19086071848869324), ('nlp', 0.10178055614233017), ('understand', 0.08204130828380585)]\n"
     ]
    }
   ],
   "source": [
    "result = model.wv.most_similar(positive=['intelligence', 'human'], negative=['computers'], topn=3)\n",
    "print(result)\n"
   ]
  },
  {
   "cell_type": "code",
   "execution_count": 21,
   "id": "5e75e144-dd4e-484f-8bf5-96b596af5f75",
   "metadata": {},
   "outputs": [
    {
     "name": "stdout",
     "output_type": "stream",
     "text": [
      "False\n"
     ]
    }
   ],
   "source": [
    "print('data' in model.wv.key_to_index)\n"
   ]
  },
  {
   "cell_type": "code",
   "execution_count": null,
   "id": "b4c050bb-88c9-4551-8a08-05f7537bdb8f",
   "metadata": {},
   "outputs": [],
   "source": []
  }
 ],
 "metadata": {
  "kernelspec": {
   "display_name": "Python 3 (ipykernel)",
   "language": "python",
   "name": "python3"
  },
  "language_info": {
   "codemirror_mode": {
    "name": "ipython",
    "version": 3
   },
   "file_extension": ".py",
   "mimetype": "text/x-python",
   "name": "python",
   "nbconvert_exporter": "python",
   "pygments_lexer": "ipython3",
   "version": "3.9.13"
  }
 },
 "nbformat": 4,
 "nbformat_minor": 5
}
