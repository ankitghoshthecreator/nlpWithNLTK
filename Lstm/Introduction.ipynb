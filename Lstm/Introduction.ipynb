{
 "cells": [
  {
   "cell_type": "code",
   "execution_count": 4,
   "id": "984c3b29-f139-474a-ab3e-a5b200b2736f",
   "metadata": {},
   "outputs": [],
   "source": [
    "import numpy as np\n",
    "\n",
    "def sigmoid(x):\n",
    "    return 1/(1+np.exp(-x))\n",
    "\n",
    "def dsigmoid(x):\n",
    "    return sigmoid(x) * (1- sigmoid(x)) #derivative oof sigmoid this help us compute the change in output how much the output of the sigmoid function changes with respect to its input\n",
    "\n",
    "def tanh(x):\n",
    "    return np.tanh(x)\n",
    "\n",
    "def dtanh(x):\n",
    "    return 1 - tanh(x) ** 2"
   ]
  },
  {
   "cell_type": "code",
   "execution_count": 6,
   "id": "314688ef-db56-4ff2-bdb6-17b548f5f4ef",
   "metadata": {},
   "outputs": [],
   "source": [
    "def initialize_parameters(input_size, hidden_size):\n",
    "    params = {}\n",
    "\n",
    "    params['wf'] = np.random.randn(hidden_size, hidden_size + input_size) * 0.01\n",
    "    params['bf'] = np.zeros((hidden_size, 1))\n",
    "\n",
    "    params['wi'] = np.random.randn(hidden_size, hidden_size + input_size) * 0.01\n",
    "    params['bi'] = np.zeros((hidden_size, 1))\n",
    "\n",
    "    params['wc'] = np.random.randn(hidden_size, hidden_size + input_size) * 0.01\n",
    "    params['bc'] = np.zeros((hidden_size, 1))\n",
    "\n",
    "    params['wo'] = np.random.randn(hidden_size, hidden_size + input_size) * 0.01\n",
    "    params['bo'] = np.zeros((hidden_size, 1))\n",
    "\n",
    "    return params\n"
   ]
  },
  {
   "cell_type": "code",
   "execution_count": null,
   "id": "fe881246-3ab8-49c7-9529-432584dcfb54",
   "metadata": {},
   "outputs": [],
   "source": [
    "def lstm_cell_forward(x_t,c_prev, h_prev, params): #current input, cell state previous, hidden state previous\n",
    "\n",
    "    #parameter extraction\n",
    "    wf, bf=params['wf'], params['bf']#forget\n",
    "    wi, bi=params['wi'], params['bi']#input\n",
    "    wc, bc=params['wc'], params['bc']#cell\n",
    "    wo, bo=params['wo'], params['bo']#output\n",
    "\n",
    "    #combine h_prev has previous context and x_t is new word and together it will make a meaning\n",
    "    combined= np.vstack((h_prev, x_t))\n",
    "\n",
    "    #forget gate\n",
    "    f_t=sigmoid(np.dot(wf, combined)+bf)\n",
    "\n",
    "    #input gate \n",
    "    i_t=sigmoid(np.dot(wi, combined)+bi)\n",
    "\n",
    "    #candidate gate\n",
    "    ĉ_t = tanh(np.dot(wc, combined) + bc)\n",
    "\n",
    "    #update candidate\n",
    "    C_t= f_t*c_prev + i_t*ĉ_t  #core of the lstm this decide what to remember an what to forget\n",
    "\n",
    "    #output gate\n",
    "    o_t=sigmoid(np.dot(wo, combined)+bo)\n",
    "\n",
    "    #update hidden gate\n",
    "    h_t= o_t * tanh(C_t) #tanh because C_t may have neg(-) vals and this tanh  squashes it to [-1, 1], keeping that signed information.\n",
    "\n",
    "    return h_, C_t"
   ]
  },
  {
   "cell_type": "code",
   "execution_count": null,
   "id": "4a86259b-a192-4852-9048-86b33f7ea967",
   "metadata": {},
   "outputs": [],
   "source": []
  }
 ],
 "metadata": {
  "kernelspec": {
   "display_name": "Python 3 (ipykernel)",
   "language": "python",
   "name": "python3"
  },
  "language_info": {
   "codemirror_mode": {
    "name": "ipython",
    "version": 3
   },
   "file_extension": ".py",
   "mimetype": "text/x-python",
   "name": "python",
   "nbconvert_exporter": "python",
   "pygments_lexer": "ipython3",
   "version": "3.9.13"
  }
 },
 "nbformat": 4,
 "nbformat_minor": 5
}
